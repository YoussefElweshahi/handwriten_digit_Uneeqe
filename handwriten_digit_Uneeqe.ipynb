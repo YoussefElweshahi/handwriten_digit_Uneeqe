{
  "nbformat": 4,
  "nbformat_minor": 0,
  "metadata": {
    "colab": {
      "provenance": []
    },
    "kernelspec": {
      "name": "python3",
      "display_name": "Python 3"
    },
    "language_info": {
      "name": "python"
    }
  },
  "cells": [
    {
      "cell_type": "markdown",
      "source": [
        "# Youssef Mohamed Alaaeldin Mansour Elweshahy\n",
        "# Uneeqe interns as ML"
      ],
      "metadata": {
        "id": "cziy7l1_o1tF"
      }
    },
    {
      "cell_type": "code",
      "execution_count": null,
      "metadata": {
        "colab": {
          "base_uri": "https://localhost:8080/"
        },
        "id": "5SRrSnofkQWq",
        "outputId": "3386fa89-9db8-4cf4-feb7-dda183d9462a"
      },
      "outputs": [
        {
          "output_type": "stream",
          "name": "stdout",
          "text": [
            "Downloading data from https://storage.googleapis.com/tensorflow/tf-keras-datasets/mnist.npz\n",
            "11490434/11490434 [==============================] - 0s 0us/step\n"
          ]
        }
      ],
      "source": [
        "import tensorflow as tf\n",
        "mnist = tf.keras.datasets.mnist\n",
        "(x_train, y_train), (x_test, y_test) = mnist.load_data()"
      ]
    },
    {
      "cell_type": "code",
      "source": [
        "import matplotlib.pyplot as plt\n",
        "plt.imshow(x_train[69])\n",
        "print(x_train[69])"
      ],
      "metadata": {
        "colab": {
          "base_uri": "https://localhost:8080/",
          "height": 1000
        },
        "id": "M0CoTOxHk5GK",
        "outputId": "9fe90b18-f3d5-4255-dbb2-f5012b41d715"
      },
      "execution_count": null,
      "outputs": [
        {
          "output_type": "stream",
          "name": "stdout",
          "text": [
            "[[  0   0   0   0   0   0   0   0   0   0   0   0   0   0   0   0   0   0\n",
            "    0   0   0   0   0   0   0   0   0   0]\n",
            " [  0   0   0   0   0   0   0   0   0   0   0   0   0   0   0   0   0   0\n",
            "    0   0   0   0   0   0   0   0   0   0]\n",
            " [  0   0   0   0   0   0   0   0   0   0   0   0   0   0   0   0   0   0\n",
            "    0   0   0   0   0   0   0   0   0   0]\n",
            " [  0   0   0   0   0   0   0   0   0   0   0   0   0   0   0   0   0   0\n",
            "    0   0   0   0   0   0   0   0   0   0]\n",
            " [  0   0   0   0   0   0   0   0   0   0   0   0   0   0   0   0   0   0\n",
            "    0   0   0   0   0   0   0   0   0   0]\n",
            " [  0   0   0   0   0   0   0   0   0   0   0   0 203 254 252 252 252 214\n",
            "   51  20   0   0   0   0   0   0   0   0]\n",
            " [  0   0   0   0   0   0   0   0   0   0   0  62 221 252 250 250 250 252\n",
            "  250 160  20   0   0   0   0   0   0   0]\n",
            " [  0   0   0   0   0   0   0   0   0   0  62 211 250 252 250 250 250 252\n",
            "  250 250  49   0   0   0   0   0   0   0]\n",
            " [  0   0   0   0   0   0   0   0   0  41 221 250 250 252 250 250 250 252\n",
            "  250 128  10   0   0   0   0   0   0   0]\n",
            " [  0   0   0   0   0   0   0   0   0 254 252 252 252 254 252 252 252 254\n",
            "  252 252  90   0   0   0   0   0   0   0]\n",
            " [  0   0   0   0   0   0   0   0   0 150 190 250 250 252 250 250 169 171\n",
            "  250 250 250  82   0   0   0   0   0   0]\n",
            " [  0   0   0   0   0   0   0   0   0  31 191 250 250 252 189 100  20 172\n",
            "  250 250 250  80   0   0   0   0   0   0]\n",
            " [  0   0   0   0   0   0   0   0   0 213 250 250 250 212  29   0   0 252\n",
            "  250 250 250   0   0   0   0   0   0   0]\n",
            " [  0   0   0   0   0   0   0   0   0  92 252 252 252   0   0   0   0  51\n",
            "  252 252 252 203   0   0   0   0   0   0]\n",
            " [  0   0   0   0   0   0   0   0  82 252 250 250 169   0   0   0   0 132\n",
            "  250 250 250 121   0   0   0   0   0   0]\n",
            " [  0   0   0   0   0   0   0  92 231 252 250 159  20   0   0   0   0 252\n",
            "  250 250 250   0   0   0   0   0   0   0]\n",
            " [  0   0   0   0   0   0   0  30 211 252 250 221  40   0   0   0   0  90\n",
            "  250 250 250 163   0   0   0   0   0   0]\n",
            " [  0   0   0   0   0   0   0  31 213 254 232  80   0   0   0   0   0  92\n",
            "  252 252 212 163   0   0   0   0   0   0]\n",
            " [  0   0   0   0   0   0   0 151 250 252 149   0   0   0   0   0   0 252\n",
            "  250 250  49   0   0   0   0   0   0   0]\n",
            " [  0   0   0   0   0   0   0  60 221 252 210  60   0   0   0   0   0 252\n",
            "  250 250  49   0   0   0   0   0   0   0]\n",
            " [  0   0   0   0   0   0   0   0 202 252 250 221  40   0   0 123 202 252\n",
            "  250 250  49   0   0   0   0   0   0   0]\n",
            " [  0   0   0   0   0   0   0 123 243 255 252 252 252 254 252 252 252 254\n",
            "  252 100   0   0   0   0   0   0   0   0]\n",
            " [  0   0   0   0   0   0   0   0 121 171 250 250 250 252 250 250 250 252\n",
            "  250 100   0   0   0   0   0   0   0   0]\n",
            " [  0   0   0   0   0   0   0   0   0  20 160 250 250 252 250 250 250 252\n",
            "  189  40   0   0   0   0   0   0   0   0]\n",
            " [  0   0   0   0   0   0   0   0   0   0  20 170 250 252 250 128  49  49\n",
            "   29   0   0   0   0   0   0   0   0   0]\n",
            " [  0   0   0   0   0   0   0   0   0   0   0   0   0   0   0   0   0   0\n",
            "    0   0   0   0   0   0   0   0   0   0]\n",
            " [  0   0   0   0   0   0   0   0   0   0   0   0   0   0   0   0   0   0\n",
            "    0   0   0   0   0   0   0   0   0   0]\n",
            " [  0   0   0   0   0   0   0   0   0   0   0   0   0   0   0   0   0   0\n",
            "    0   0   0   0   0   0   0   0   0   0]]\n"
          ]
        },
        {
          "output_type": "display_data",
          "data": {
            "text/plain": [
              "<Figure size 640x480 with 1 Axes>"
            ],
            "image/png": "[encoded data removed]"
          },
          "metadata": {}
        }
      ]
    },
    {
      "cell_type": "code",
      "source": [
        "x_train = tf.keras.utils.normalize(x_train, axis=1)\n",
        "x_test = tf.keras.utils.normalize(x_test, axis=1)"
      ],
      "metadata": {
        "id": "onCI448mk-pP"
      },
      "execution_count": null,
      "outputs": []
    },
    {
      "cell_type": "code",
      "source": [
        "plt.imshow(x_train[50])\n",
        "print(x_train[50])"
      ],
      "metadata": {
        "colab": {
          "base_uri": "https://localhost:8080/",
          "height": 1000
        },
        "id": "DeKHsfH2lCk3",
        "outputId": "1a72ded1-32e6-4e8b-acbc-21bdcea4fba6"
      },
      "execution_count": null,
      "outputs": [
        {
          "output_type": "stream",
          "name": "stdout",
          "text": [
            "[[0.         0.         0.         0.         0.         0.\n",
            "  0.         0.         0.         0.         0.         0.\n",
            "  0.         0.         0.         0.         0.         0.\n",
            "  0.         0.         0.         0.         0.         0.\n",
            "  0.         0.         0.         0.        ]\n",
            " [0.         0.         0.         0.         0.         0.\n",
            "  0.         0.         0.         0.         0.         0.\n",
            "  0.         0.         0.         0.         0.         0.\n",
            "  0.         0.         0.         0.         0.         0.\n",
            "  0.         0.         0.         0.        ]\n",
            " [0.         0.         0.         0.         0.         0.\n",
            "  0.         0.         0.         0.         0.         0.\n",
            "  0.         0.         0.         0.         0.         0.\n",
            "  0.         0.         0.         0.         0.         0.\n",
            "  0.         0.         0.         0.        ]\n",
            " [0.         0.         0.         0.         0.         0.\n",
            "  0.         0.         0.         0.         0.         0.\n",
            "  0.         0.         0.         0.         0.         0.\n",
            "  0.         0.         0.         0.         0.         0.\n",
            "  0.         0.         0.         0.        ]\n",
            " [0.         0.         0.         0.         0.         0.\n",
            "  0.         0.         0.         0.         0.02575398 0.10332473\n",
            "  0.25489201 0.2282781  0.29161685 0.29350576 0.13534087 0.0034086\n",
            "  0.         0.         0.         0.         0.         0.\n",
            "  0.         0.         0.         0.        ]\n",
            " [0.         0.         0.         0.         0.         0.\n",
            "  0.         0.         0.08410012 0.3672854  0.51078725 0.46865144\n",
            "  0.44788167 0.43843889 0.42159465 0.36101208 0.35808939 0.11418809\n",
            "  0.         0.         0.         0.         0.         0.\n",
            "  0.         0.         0.         0.        ]\n",
            " [0.         0.         0.         0.         0.         0.\n",
            "  0.         0.         0.44212634 0.4026864  0.31334007 0.23432572\n",
            "  0.127446   0.05435193 0.07498719 0.05283104 0.30310716 0.29825247\n",
            "  0.         0.         0.         0.         0.         0.\n",
            "  0.         0.         0.         0.        ]\n",
            " [0.         0.         0.         0.         0.         0.\n",
            "  0.         0.         0.07208582 0.         0.         0.\n",
            "  0.         0.         0.         0.         0.29182875 0.41925775\n",
            "  0.02457555 0.         0.         0.         0.         0.\n",
            "  0.         0.         0.         0.        ]\n",
            " [0.         0.         0.         0.         0.         0.\n",
            "  0.         0.         0.         0.         0.         0.\n",
            "  0.         0.         0.         0.08071408 0.35385999 0.28802667\n",
            "  0.0017554  0.         0.         0.         0.         0.\n",
            "  0.         0.         0.         0.        ]\n",
            " [0.         0.         0.         0.         0.         0.\n",
            "  0.         0.         0.         0.         0.         0.\n",
            "  0.         0.         0.0183302  0.31551869 0.32707377 0.034086\n",
            "  0.         0.         0.         0.         0.         0.\n",
            "  0.         0.         0.         0.        ]\n",
            " [0.         0.         0.         0.         0.         0.\n",
            "  0.         0.         0.         0.         0.         0.\n",
            "  0.         0.03623462 0.31661258 0.3668822  0.08599785 0.\n",
            "  0.         0.         0.         0.         0.         0.\n",
            "  0.         0.         0.         0.        ]\n",
            " [0.         0.         0.         0.         0.         0.\n",
            "  0.         0.         0.         0.         0.         0.04428203\n",
            "  0.21483755 0.37321658 0.42326103 0.36394714 0.20019171 0.18406438\n",
            "  0.03159714 0.         0.         0.         0.         0.\n",
            "  0.         0.         0.         0.        ]\n",
            " [0.         0.         0.         0.         0.         0.\n",
            "  0.         0.         0.         0.         0.13520839 0.41145382\n",
            "  0.46244693 0.46017966 0.42326103 0.37275231 0.35808939 0.43289215\n",
            "  0.36687789 0.         0.         0.         0.         0.\n",
            "  0.         0.         0.         0.        ]\n",
            " [0.         0.         0.         0.         0.         0.\n",
            "  0.         0.         0.         0.         0.11160057 0.32104469\n",
            "  0.23486478 0.17211444 0.02666211 0.02348046 0.02255681 0.18065578\n",
            "  0.43709375 0.2207344  0.         0.         0.         0.\n",
            "  0.         0.         0.         0.        ]\n",
            " [0.         0.         0.         0.         0.         0.\n",
            "  0.         0.         0.         0.         0.         0.\n",
            "  0.         0.         0.         0.         0.         0.\n",
            "  0.31421599 0.42204417 0.         0.         0.         0.\n",
            "  0.         0.         0.         0.        ]\n",
            " [0.         0.         0.         0.         0.         0.\n",
            "  0.         0.         0.         0.         0.         0.\n",
            "  0.         0.         0.         0.         0.         0.\n",
            "  0.14043173 0.42204417 0.         0.         0.         0.\n",
            "  0.         0.         0.         0.        ]\n",
            " [0.         0.         0.         0.         0.         0.\n",
            "  0.         0.         0.         0.         0.         0.\n",
            "  0.         0.         0.         0.         0.         0.\n",
            "  0.14043173 0.43087354 1.         0.         0.         0.\n",
            "  0.         0.         0.         0.        ]\n",
            " [0.         0.         0.         0.         0.         0.\n",
            "  0.         0.         0.         0.         0.         0.\n",
            "  0.         0.         0.         0.         0.         0.\n",
            "  0.17553966 0.42204417 0.         0.         0.         0.\n",
            "  0.         0.         0.         0.        ]\n",
            " [0.         0.         0.         0.         0.         0.\n",
            "  0.         0.         0.         0.         0.         0.\n",
            "  0.         0.         0.         0.         0.         0.\n",
            "  0.4107628  0.42204417 0.         0.         0.         0.\n",
            "  0.         0.         0.         0.        ]\n",
            " [0.         0.         0.         0.         0.         0.\n",
            "  0.         0.06131393 0.33640047 0.01106281 0.         0.\n",
            "  0.         0.         0.         0.         0.0042294  0.25564497\n",
            "  0.44587074 0.2277979  0.         0.         0.         0.\n",
            "  0.         0.         0.         0.        ]\n",
            " [0.         0.         0.         0.         0.         0.\n",
            "  0.         0.98102294 0.61032657 0.40047384 0.08155427 0.\n",
            "  0.         0.         0.         0.04989598 0.26504254 0.43289215\n",
            "  0.36687789 0.0353175  0.         0.         0.         0.\n",
            "  0.         0.         0.         0.        ]\n",
            " [0.         0.         0.         0.         0.         0.\n",
            "  0.         0.1839418  0.54304648 0.56420348 0.47859477 0.16236743\n",
            "  0.12380469 0.23190156 0.26162198 0.35514197 0.35808939 0.35279006\n",
            "  0.04037412 0.         0.         0.         0.         0.\n",
            "  0.         0.         0.         0.        ]\n",
            " [0.         0.         0.         0.         0.         0.\n",
            "  0.         0.         0.10812872 0.46463816 0.54512588 0.46865144\n",
            "  0.46244693 0.46017966 0.42492741 0.37275231 0.26363274 0.08351069\n",
            "  0.         0.         0.         0.         0.         0.\n",
            "  0.         0.         0.         0.        ]\n",
            " [0.         0.         0.         0.         0.         0.\n",
            "  0.         0.         0.         0.09071507 0.27685527 0.44097517\n",
            "  0.4169305  0.32429984 0.15164076 0.02348046 0.0042294  0.\n",
            "  0.         0.         0.         0.         0.         0.\n",
            "  0.         0.         0.         0.        ]\n",
            " [0.         0.         0.         0.         0.         0.\n",
            "  0.         0.         0.         0.         0.         0.\n",
            "  0.         0.         0.         0.         0.         0.\n",
            "  0.         0.         0.         0.         0.         0.\n",
            "  0.         0.         0.         0.        ]\n",
            " [0.         0.         0.         0.         0.         0.\n",
            "  0.         0.         0.         0.         0.         0.\n",
            "  0.         0.         0.         0.         0.         0.\n",
            "  0.         0.         0.         0.         0.         0.\n",
            "  0.         0.         0.         0.        ]\n",
            " [0.         0.         0.         0.         0.         0.\n",
            "  0.         0.         0.         0.         0.         0.\n",
            "  0.         0.         0.         0.         0.         0.\n",
            "  0.         0.         0.         0.         0.         0.\n",
            "  0.         0.         0.         0.        ]\n",
            " [0.         0.         0.         0.         0.         0.\n",
            "  0.         0.         0.         0.         0.         0.\n",
            "  0.         0.         0.         0.         0.         0.\n",
            "  0.         0.         0.         0.         0.         0.\n",
            "  0.         0.         0.         0.        ]]\n"
          ]
        },
        {
          "output_type": "display_data",
          "data": {
            "text/plain": [
              "<Figure size 640x480 with 1 Axes>"
            ],
            "image/png": "[encoded data removed]"
          },
          "metadata": {}
        }
      ]
    },
    {
      "cell_type": "code",
      "source": [
        "model = tf.keras.models.Sequential()\n",
        "model.add(tf.keras.layers.Flatten())\n",
        "model.add(tf.keras.layers.Dense(256, activation='leaky_relu'))\n",
        "model.add(tf.keras.layers.Dense(128, activation='leaky_relu'))\n",
        "model.add(tf.keras.layers.Dense(64, activation='leaky_relu'))\n",
        "model.add(tf.keras.layers.Dense(10, activation='softmax'))"
      ],
      "metadata": {
        "id": "IKDZWxy2lFNf"
      },
      "execution_count": null,
      "outputs": []
    },
    {
      "cell_type": "code",
      "source": [
        "model.compile(optimizer='adam', loss='sparse_categorical_crossentropy', metrics=['accuracy'])\n",
        "model.fit(x_train, y_train, epochs=3)"
      ],
      "metadata": {
        "colab": {
          "base_uri": "https://localhost:8080/"
        },
        "id": "fMejRUeAlGSP",
        "outputId": "92f3e72f-844d-46b3-8937-b5dd4e0b1e05"
      },
      "execution_count": null,
      "outputs": [
        {
          "output_type": "stream",
          "name": "stdout",
          "text": [
            "Epoch 1/3\n",
            "1875/1875 [==============================] - 14s 7ms/step - loss: 0.2506 - accuracy: 0.9236\n",
            "Epoch 2/3\n",
            "1875/1875 [==============================] - 17s 9ms/step - loss: 0.1162 - accuracy: 0.9645\n",
            "Epoch 3/3\n",
            "1875/1875 [==============================] - 15s 8ms/step - loss: 0.0795 - accuracy: 0.9753\n"
          ]
        },
        {
          "output_type": "execute_result",
          "data": {
            "text/plain": [
              "<keras.src.callbacks.History at 0x79e268716fb0>"
            ]
          },
          "metadata": {},
          "execution_count": 6
        }
      ]
    },
    {
      "cell_type": "code",
      "source": [
        "val_loss, val_acc = model.evaluate(x_test, y_test)\n",
        "print(val_loss, val_acc)\n",
        "model.save('ocr_reader.model')"
      ],
      "metadata": {
        "colab": {
          "base_uri": "https://localhost:8080/"
        },
        "id": "GYWbSOBilNJg",
        "outputId": "2cb975c5-e081-4567-8ae0-959ba3069bbf"
      },
      "execution_count": null,
      "outputs": [
        {
          "output_type": "stream",
          "name": "stdout",
          "text": [
            "313/313 [==============================] - 1s 2ms/step - loss: 0.1057 - accuracy: 0.9675\n",
            "0.10567816346883774 0.9674999713897705\n"
          ]
        }
      ]
    },
    {
      "cell_type": "code",
      "source": [
        "new_model = tf.keras.models.load_model('ocr_reader.model')\n",
        "predictions = new_model.predict(x_test)\n",
        "print(predictions)"
      ],
      "metadata": {
        "colab": {
          "base_uri": "https://localhost:8080/"
        },
        "id": "ztnUBHJklN7f",
        "outputId": "92d0a847-9af5-49a0-e53d-53804dee749e"
      },
      "execution_count": null,
      "outputs": [
        {
          "output_type": "stream",
          "name": "stdout",
          "text": [
            "313/313 [==============================] - 1s 2ms/step\n",
            "[[4.8112754e-09 1.3567086e-07 1.2604953e-07 ... 9.9977684e-01\n",
            "  3.3240664e-08 7.9840884e-06]\n",
            " [1.0625552e-11 1.7915914e-05 9.9997121e-01 ... 2.3354991e-09\n",
            "  7.3080880e-10 2.5685231e-14]\n",
            " [4.7585886e-09 9.9993902e-01 2.2292245e-06 ... 3.2561366e-05\n",
            "  1.5693899e-05 5.0708199e-08]\n",
            " ...\n",
            " [5.7618350e-09 1.1240966e-07 6.0367540e-08 ... 5.3740390e-05\n",
            "  3.6833410e-06 2.6620185e-04]\n",
            " [4.6626741e-07 3.3020630e-08 2.8598292e-08 ... 1.9475419e-07\n",
            "  9.8381867e-04 2.7261174e-07]\n",
            " [1.6117276e-06 2.9840499e-09 3.7367139e-05 ... 7.2438951e-08\n",
            "  1.6248489e-06 4.6021199e-08]]\n"
          ]
        }
      ]
    },
    {
      "cell_type": "code",
      "source": [
        "import numpy as np\n",
        "print(np.argmax(predictions[9]))"
      ],
      "metadata": {
        "colab": {
          "base_uri": "https://localhost:8080/"
        },
        "id": "hI-t0E25lURP",
        "outputId": "f1f76c6f-d45a-47ee-88b2-55e90bc8a6c0"
      },
      "execution_count": null,
      "outputs": [
        {
          "output_type": "stream",
          "name": "stdout",
          "text": [
            "9\n"
          ]
        }
      ]
    },
    {
      "cell_type": "code",
      "source": [
        "plt.imshow(x_test[9])\n",
        "plt.show()"
      ],
      "metadata": {
        "colab": {
          "base_uri": "https://localhost:8080/",
          "height": 430
        },
        "id": "AL7JjkiLlVnP",
        "outputId": "c067718b-1b3b-4941-f055-ce4c02507f54"
      },
      "execution_count": null,
      "outputs": [
        {
          "output_type": "display_data",
          "data": {
            "text/plain": [
              "<Figure size 640x480 with 1 Axes>"
            ],
            "image/png": "[encoded data removed]"
          },
          "metadata": {}
        }
      ]
    }
  ]
}